{
  "cells": [
    {
      "cell_type": "raw",
      "metadata": {},
      "source": [
        "---\n",
        "title: \"Projects\"\n",
        "listing: \n",
        "  contents: posts\n",
        "  sort: \"date desc\"\n",
        "  type: default\n",
        "  categories: true\n",
        "  sort-ui: false\n",
        "  filter-ui: false\n",
        "page-layout: full\n",
        "title-block-banner: true\n",
        "\n",
        "---"
      ],
      "id": "3fb48cb8"
    },
    {
      "cell_type": "markdown",
      "metadata": {},
      "source": [
        "## Projects\n",
        "\n",
        "```{quarto, echo = FALSE}\n",
        "quarto::doc_list(\n",
        "  dir = \"path/to/your/documents\",\n",
        "  exclude = c(\"*.ipynb\", \"post\")\n",
        ")\n"
      ],
      "id": "b66f7266"
    }
  ],
  "metadata": {
    "kernelspec": {
      "display_name": "Python 3",
      "language": "python",
      "name": "python3"
    }
  },
  "nbformat": 4,
  "nbformat_minor": 5
}